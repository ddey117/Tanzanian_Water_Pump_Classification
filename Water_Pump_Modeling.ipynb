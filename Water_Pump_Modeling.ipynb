{
 "cells": [
  {
   "cell_type": "code",
   "execution_count": 57,
   "metadata": {},
   "outputs": [],
   "source": [
    "# Import standard packages\n",
    "import pandas as pd\n",
    "import numpy as np\n",
    "import matplotlib.pyplot as plt\n",
    "import seaborn as sns\n",
    "%matplotlib inline\n",
    "sns.set_theme(style=\"darkgrid\")\n",
    "from collections import Counter\n",
    "from sklearn.preprocessing import OneHotEncoder, LabelEncoder\n",
    "import time\n",
    "# from sklearn import metrics\n",
    "from sklearn.metrics import precision_score, recall_score, accuracy_score, f1_score\n",
    "from sklearn.pipeline import Pipeline\n",
    "from sklearn.preprocessing import MinMaxScaler, StandardScaler\n",
    "from sklearn.model_selection import train_test_split, GridSearchCV, RandomizedSearchCV\n",
    "from sklearn.metrics import confusion_matrix, plot_confusion_matrix\n",
    "\n",
    "from sklearn.linear_model import LogisticRegression\n",
    "from sklearn.ensemble import RandomForestClassifier\n",
    "from xgboost import XGBClassifier"
   ]
  },
  {
   "cell_type": "markdown",
   "metadata": {},
   "source": [
    "# Tanzania Machine Learning Water Pump Classification\n",
    "## Modeling Notebook\n",
    "\n",
    "**Author:** Dylan Dey\n",
    "\n",
    "This project it available on github here: (insert link here)\n",
    "\n",
    "The Author can be reached at the following email: ddey2985@gmail.com"
   ]
  },
  {
   "cell_type": "markdown",
   "metadata": {},
   "source": [
    "## Classification Metric Understanding\n",
    "\n",
    "Below is a confusion matrix that would be produced from a model performing predictive maintenance on behalf of the Ministry of Water. There are four possible outcomes to be considered. The confusion matrix below is a visual aid to help in understanding what classification metrics to consider when building the model.  \n",
    "\n",
    "![Confusion Matrix Description](images/confusion_matrix_overview.jpg)\n",
    "\n",
    "A true positive in the current context would be when the model correctly identifies a functional pump as functional. A true negative would be when the model correctly identifies a non-functional pump as non-functional. Both are important and both can be described by the overall **accuracy** of the model.\n",
    "\n",
    "True negatives are really at the heart of the model, as this is the situation in which the Ministry of Water would have a call to action. An appropriately outfitted team would be set to *all* pumps that my model identifies as non-functional. Thus, this is the situation in which the correct resources are being derived to the correct water pumps as quickly as possible. High accuracy would mean that more resources are going to the correct locations from the get-go. \n",
    "\n",
    "True positives are also important. This is where the model will really be saving time, resources, and money for the Ministry of Water. *Any* pumps identified as functional would no longer need to be physically checked and the Ministry of Water can withhold additional resources from going to pumps that do not actually need them. \n",
    "\n",
    "Notice the emphasis on *any* and *all* pumps in my description of true negatives and true positives above. The true cost/resource analysis is really the consideration of this fact: no model I create will ever correctly identify every single pump appropriately. This is the cost of predictive maintenance and a proper understanding of false positives and false negatives is extremely important in production of classification models in the given context.\n",
    "\n",
    "False positives in the current context are the worst case scenario for modeling. This is the scenario in which the model **incorrectly** identifies a non-functional model as functional. Thus, resources would be withheld and no team would be sent to physically check these pumps, as the Ministry of Water would have to assume they are indeed functional if they want to use the model appropriately. False positives therefore describe the number of non-functional pumps that will go unvisited and unfixed until they can be resolved by other means. Reducing false positives as much as possible is very important.\n",
    "\n",
    "Well, why would I want to build the model if these false positives cannot be completely avoided? Cost/resource management, of course! Afterall, it is about making sure as many people get clean water as quickly as possible. The reality is there that resources are finite, and without the model the Ministry of Water likely would not have the resources to physically check all the pumps and then fix all of the pumps in any sort of reasonable timeline, and even less communities would have access to fresh water when compared to using the model for predictive maintenance. \n",
    "\n",
    "False negatives are also important to consider. While false positives can be considered more harmful overall, false negatives are also important to reduce as much as possible. In the given context, false negatives describe the situation in which the model **incorrectly** identifies a functional pump as non-functional. Because the Ministry of water will deploy fully equipped teams to visit all pumps that my model predicts to be non-functional, these will be the pumps that will waste resources. Resources will be sent to locations that they aren't needed, and the metric that describes this would be false negatives. Thus, reduction of false negatives is essential in improving the efficiency of resource management through predictive maintenance. \n",
    "\n",
    "In summary, overall accuracy of the model and a reduction of both false negatives and false positives are the most important metrics to consider when developing a model in this context. More specifically, models will be tuned to **maximize accuracy and f1-score.**\n",
    "\n",
    "Accuracy:\n",
    "\n",
    "f1-score:"
   ]
  },
  {
   "cell_type": "markdown",
   "metadata": {},
   "source": [
    "#### Function Definition\n",
    "\n",
    "Below are all of the functions used for preprocessing data before modeling."
   ]
  },
  {
   "cell_type": "code",
   "execution_count": 2,
   "metadata": {},
   "outputs": [],
   "source": [
    "def drop_cols(water_pump_df):\n",
    "    to_drop_final = ['id', 'recorded_by', 'num_private',\n",
    "          'waterpoint_type_group', 'source',\n",
    "          'source_class', 'extraction_type',\n",
    "          'extraction_type_group', 'payment_type',\n",
    "          'management_group', 'scheme_name',\n",
    "          'water_quality', 'quantity_group',\n",
    "          'scheme_management', 'longitude',\n",
    "          'latitude', 'date_recorded',\n",
    "          'amount_tsh', 'gps_height',\n",
    "          'region_code', 'district_code']\n",
    "          #'population'\n",
    "    \n",
    "    return water_pump_df.drop(columns=to_drop_final, axis=1)\n",
    "\n",
    "#helper function to bin construction year\n",
    "def construction_wrangler(row):\n",
    "    if row['construction_year'] >= 1960 and row['construction_year'] < 1970:\n",
    "        return '60s'\n",
    "    elif row['construction_year'] >= 1970 and row['construction_year'] < 1980:\n",
    "        return '70s'\n",
    "    elif row['construction_year'] >= 1980 and row['construction_year'] < 1990:\n",
    "        return '80s'\n",
    "    elif row['construction_year'] >= 1990 and row['construction_year'] < 2000:\n",
    "        return '90s'\n",
    "    elif row['construction_year'] >= 2000 and row['construction_year'] < 2010:\n",
    "        return '00s'\n",
    "    elif row['construction_year'] >= 2010:\n",
    "        return '10s'\n",
    "    else:\n",
    "        return 'unknown'\n",
    "    \n",
    "def bin_construction_year(water_pump_df):\n",
    "    water_pump_df['construction_year'] = water_pump_df.apply(lambda row: construction_wrangler(row), axis=1)\n",
    "    return water_pump_df\n",
    "    \n",
    "\n",
    "#takes zero placeholders and NAN values and converts them into 'unknown'\n",
    "def fill_unknowns(water_pump_df):    \n",
    "    installer_index_0 = water_pump_df['installer'] =='0'\n",
    "    funder_index_0 = water_pump_df['funder'] =='0'\n",
    "    water_pump_df.loc[installer_index_0, 'installer'] = 'unknown'\n",
    "    water_pump_df.loc[funder_index_0, 'funder'] = 'unknown'\n",
    "    water_pump_df.fillna({'installer':'unknown', \n",
    "                   'funder':'unknown', \n",
    "                   'subvillage': 'unknown'}, inplace=True)\n",
    "    return water_pump_df\n",
    "    \n",
    "#returns back boolean features without NANs while maintaining same ratio of True to False as with NANs    \n",
    "def fill_col_normal_data(water_pump_df):\n",
    "    filt = water_pump_df['permit'].isna()\n",
    "    probs = water_pump_df['permit'].value_counts(normalize=True)\n",
    "    water_pump_df.loc[filt, 'permit'] = np.random.choice([True, False], \n",
    "                       size=int(filt.sum()),\n",
    "                       p = [probs[True], probs[False]])\n",
    "    filt = water_pump_df['public_meeting'].isna()\n",
    "    probs = water_pump_df['public_meeting'].value_counts(normalize=True)\n",
    "    water_pump_df.loc[filt, 'public_meeting'] = np.random.choice([True, False], \n",
    "                       size=int(filt.sum()),\n",
    "                       p = [probs[True], probs[False]])\n",
    "    return water_pump_df\n",
    "\n",
    "\n",
    "\n",
    "def apply_cardinality_reduct(water_pump_df, reduct_dict):\n",
    "    for col, categories_list in reduct_dict.items():\n",
    "        water_pump_df[col] = water_pump_df[col].apply(lambda x: x if x in categories_list else 'Other')\n",
    "    return water_pump_df\n",
    "        \n",
    "\n",
    "\n",
    "#one_hot_incode categorical data\n",
    "def one_hot(water_pump_df):\n",
    "    final_cat = ['funder', 'installer', 'wpt_name', 'basin', 'subvillage', 'region',\n",
    "       'lga', 'ward', 'public_meeting', 'permit', 'construction_year',\n",
    "       'extraction_type_class', 'management', 'payment', 'quality_group',\n",
    "       'quantity', 'source_type', 'waterpoint_type']\n",
    "    \n",
    "    water_pump_df = pd.get_dummies(water_pump_df[final_cat], drop_first=True)\n",
    "    \n",
    "    return water_pump_df\n",
    "\n",
    "    \n",
    "    \n",
    "#master function for cleaning dataFrame\n",
    "def clean_dataFrame(water_pump_df, reduct_dict):\n",
    "    water_pump_df = drop_cols(water_pump_df)\n",
    "    water_pump_df = bin_construction_year(water_pump_df)\n",
    "    water_pump_df = fill_unknowns(water_pump_df)\n",
    "    water_pump_df = fill_col_normal_data(water_pump_df)\n",
    "    water_pump_df = apply_cardinality_reduct(water_pump_df, reduct_dict)\n",
    "    water_pump_df = one_hot(water_pump_df)\n",
    "    \n",
    "    return water_pump_df\n",
    "\n",
    "###############################################\n",
    "# The rest of the functions in this section\n",
    "#define functions that reduce cardinality\n",
    "#by mapping infrequent values ot other\n",
    "#the dictionary derived from these functions\n",
    "#will be used by my_funk in my master \n",
    "#clean_dataFrame function\n",
    "\n",
    "#helper function for reducing cardinality    \n",
    "def cardinality_threshold(column,threshold=0.65):\n",
    "    #calculate the threshold value using\n",
    "    #the frequency of instances in column\n",
    "    threshold_value=int(threshold*len(column))\n",
    "    #initialize a new list for lower cardinality column\n",
    "    categories_list=[]\n",
    "    #initialize a variable to calculate sum of frequencies\n",
    "    s=0\n",
    "    #Create a dictionary (unique_category: frequency)\n",
    "    counts=Counter(column)\n",
    "\n",
    "    #Iterate through category names and corresponding frequencies after sorting the categories\n",
    "    #by descending order of frequency\n",
    "    for i,j in counts.most_common():\n",
    "        #Add the frequency to the total sum\n",
    "        s += dict(counts)[i]\n",
    "        #append the category name to the categories list\n",
    "        categories_list.append(i)\n",
    "        #Check if the global sum has reached the threshold value, if so break the loop\n",
    "        if s >= threshold_value:\n",
    "            break\n",
    "        #append the new 'Other' category to list\n",
    "        categories_list.append('Other')\n",
    "\n",
    "    #Take all instances not in categories below threshold  \n",
    "    #that were kept and lump them into the\n",
    "    #new 'Other' category.\n",
    "    new_column = column.apply(lambda x: x if x in categories_list else 'Other')\n",
    "#     return new_column\n",
    "    return categories_list\n",
    "     \n",
    " #reduces the cardinality of appropriate categories   \n",
    "def get_col_val_mapping(water_pump_df):\n",
    "    col_threshold_list = [\n",
    "        ('funder',0.65), \n",
    "        ('installer', 0.65),\n",
    "        ('wpt_name', 0.15),\n",
    "        ('subvillage', 0.07),\n",
    "        ('lga', 0.6),\n",
    "        ('ward', 0.05)\n",
    "    ]\n",
    "    \n",
    "    reduct_dict = {}\n",
    "    \n",
    "    for col, thresh in col_threshold_list:\n",
    "        reduct_dict[col] = cardinality_threshold(water_pump_df[col],\n",
    "                                                   threshold= thresh)\n",
    "        \n",
    "    return reduct_dict\n",
    "\n",
    "# reduct_dict is a key value mapper that will\n",
    "# be used for both training and testing sets\n",
    "# in order to reduce cardinality of the data"
   ]
  },
  {
   "cell_type": "markdown",
   "metadata": {},
   "source": [
    "#### Import The Data From Multiple Sources\n",
    "\n",
    "I used a number of sources for my data to use for modeling in this notebook. The cell below imports the original data from the DrivenData competition, data derived from DrivenData in QGIS and opensource hydrology data, and population data from Tanzania government census in 2012."
   ]
  },
  {
   "cell_type": "code",
   "execution_count": 3,
   "metadata": {},
   "outputs": [],
   "source": [
    "#import data from DrivenData\n",
    "train_labels = pd.read_csv('files/0bf8bc6e-30d0-4c50-956a-603fc693d966.csv')\n",
    "train_features = pd.read_csv('files/4910797b-ee55-40a7-8668-10efd5c1b960.csv')\n",
    "df = train_features.merge(train_labels, on='id').copy()\n",
    "#import QGIS derived data and prepare for model\n",
    "river_df = pd.read_csv('data/river_dist2.csv')\n",
    "#removing outliers\n",
    "index_riv = river_df[river_df['HubDist'] >66].index\n",
    "river_median = river_df['HubDist'].median()\n",
    "river_df.loc[index_riv, 'HubDist'] = river_median\n",
    "\n",
    "#create boolean for pump being within 8 km of river\n",
    "river_s = river_df['HubDist'].copy()\n",
    "river_s.rename('near_river', inplace=True) \n",
    "near_river = river_s[river_s < 8].apply(lambda x: 1 if not pd.isnull(x) else np.nan)\n",
    "df = df.join(near_river)\n",
    "df.near_river.fillna(0, inplace=True)\n",
    "\n",
    "#import population data from 2012 government census\n",
    "df_pop = pd.read_excel('data/tza-pop-popn-nbs-baselinedata-xlsx-1.xlsx')\n",
    "\n",
    "#create a dictionary of values with format {Ward : Total Population}\n",
    "\n",
    "pop_index = df_pop.groupby('Ward_Name')['total_both'].sum().index\n",
    "pop_values = df_pop.groupby('Ward_Name')['total_both'].sum().values\n",
    "pop_dict = dict(zip(pop_index, pop_values))\n",
    "\n",
    "#create pandas Dataframe for merging\n",
    "pop_dataframe = pd.DataFrame.from_dict(pop_dict, orient='index')\n",
    "#rename column for clarity\n",
    "pop_dataframe.rename(columns={0: 'ward_pop'}, inplace=True)\n",
    "\n",
    "#merge dataframes\n",
    "df_pop_merge = df.merge(pop_dataframe,\n",
    "                              how='left',\n",
    "                              left_on='ward',\n",
    "                              right_index=True)\n",
    "\n",
    "#replace null values of ward population with\n",
    "#median ward population\n",
    "\n",
    "ward_pop_median = df_pop_merge['ward_pop'].median()\n",
    "df_pop_merge.fillna(value=ward_pop_median, inplace=True)\n",
    "# merge back into df and drop pop column\n",
    "ward_pop_s = df_pop_merge['ward_pop'].copy()\n",
    "df = df.join(ward_pop_s)\n",
    "df.drop(columns=['population'], axis=1, inplace=True)\n",
    "\n",
    "\n",
    "need_repair_index = df['status_group'] == 'functional needs repair'\n",
    "df_binary = df.copy()\n",
    "df_binary.loc[need_repair_index, 'status_group'] = 'non functional'"
   ]
  },
  {
   "cell_type": "markdown",
   "metadata": {},
   "source": [
    "#### Transform Target to Numerical Data with Label Encoding \n",
    "\n",
    "As shown at the beginning of the project, the functional state of the water supply point is described as:\n",
    "functional — It is working;\n",
    "non functional — it is not working;\n",
    "functional needs repair — Running, but needing maintenance.\n",
    "\n",
    "These groups will be relabeled as:\n",
    "functional: 0\n",
    "functional needs repair: 1\n",
    "non functional: 2\n",
    "\n",
    "This would be for future work in which I didn't bin funcitonal needs repair with non functional. I chose this simplified way to deal with the imbalanced dataset not only due to time-constraints but because it is extremely difficult to get meanigful predictive power for the .functional needs repair' label due to the nature of the dataset. \n",
    "\n",
    "For the modeling in this notebook the target data will be relabeled as the following after binning function needs repar with non-functional:\n",
    "\n",
    "functional: 0  \n",
    "\n",
    "non_functional: 1"
   ]
  },
  {
   "cell_type": "code",
   "execution_count": 4,
   "metadata": {},
   "outputs": [
    {
     "data": {
      "text/plain": [
       "functional        0.543081\n",
       "non functional    0.456919\n",
       "Name: status_group, dtype: float64"
      ]
     },
     "execution_count": 4,
     "metadata": {},
     "output_type": "execute_result"
    }
   ],
   "source": [
    "df_binary['status_group'].value_counts(normalize=True)"
   ]
  },
  {
   "cell_type": "code",
   "execution_count": 5,
   "metadata": {},
   "outputs": [],
   "source": [
    "# le = LabelEncoder()\n",
    "\n",
    "# le.fit(['functional', 'functional needs repair', 'non functional'])\n",
    "\n",
    "# df['status_group'] = le.transform(df.status_group)\n",
    "\n",
    "# df['status_group'].value_counts(normalize=True)"
   ]
  },
  {
   "cell_type": "code",
   "execution_count": 6,
   "metadata": {},
   "outputs": [
    {
     "data": {
      "text/plain": [
       "0    0.543081\n",
       "1    0.456919\n",
       "Name: status_group, dtype: float64"
      ]
     },
     "execution_count": 6,
     "metadata": {},
     "output_type": "execute_result"
    }
   ],
   "source": [
    "le = LabelEncoder()\n",
    "\n",
    "le.fit(['non functional','functional'])\n",
    "\n",
    "df_binary['status_group'] = le.transform(df_binary.status_group)\n",
    "\n",
    "df_binary['status_group'].value_counts(normalize=True)"
   ]
  },
  {
   "cell_type": "markdown",
   "metadata": {},
   "source": [
    "#### Split Data into Test and Training Sets"
   ]
  },
  {
   "cell_type": "code",
   "execution_count": 7,
   "metadata": {},
   "outputs": [],
   "source": [
    "from sklearn.model_selection import train_test_split\n",
    "\n",
    "y = df_binary['status_group']\n",
    "X = df_binary.drop(columns=['status_group'], axis=1)\n",
    "\n",
    "X_train, X_test, y_train, y_test = train_test_split(X,y, test_size=0.3, random_state=42)"
   ]
  },
  {
   "cell_type": "markdown",
   "metadata": {},
   "source": [
    "##### Run Master Cleaning Function"
   ]
  },
  {
   "cell_type": "code",
   "execution_count": 8,
   "metadata": {},
   "outputs": [
    {
     "data": {
      "text/plain": [
       "(41580, 239)"
      ]
     },
     "metadata": {},
     "output_type": "display_data"
    },
    {
     "data": {
      "text/plain": [
       "(17820, 239)"
      ]
     },
     "execution_count": 8,
     "metadata": {},
     "output_type": "execute_result"
    }
   ],
   "source": [
    "value_maps = get_col_val_mapping(df_binary)\n",
    "X_train = clean_dataFrame(X_train, value_maps)\n",
    "X_test = clean_dataFrame(X_test, value_maps)\n",
    "display(X_train.shape)\n",
    "X_test.shape"
   ]
  },
  {
   "cell_type": "markdown",
   "metadata": {},
   "source": [
    "## Data Modeling\n",
    "\n",
    "### Baseline model\n",
    "\n",
    "I decided to use logistic regression as my baseline model. I chose to use an arbitrary large value for C and set the solver to 'liblinear.' I did not choose to fit an intercept for the baseline model. "
   ]
  },
  {
   "cell_type": "code",
   "execution_count": 9,
   "metadata": {},
   "outputs": [
    {
     "name": "stdout",
     "output_type": "stream",
     "text": [
      "Training Precision:  0.7951634068612136\n",
      "Testing Precision:  0.7886786918903065\n",
      "\n",
      "\n",
      "\n",
      "Training Recall:  0.6681543712260436\n",
      "Testing Recall:  0.6642786561264822\n",
      "\n",
      "\n",
      "\n",
      "Training Accuracy:  0.7691678691678692\n",
      "Testing Accuracy:  0.7666105499438832\n",
      "\n",
      "\n",
      "\n",
      "Training F1-Score:  0.7261469984021912\n",
      "Testing F1-Score:  0.7211532014750252\n"
     ]
    }
   ],
   "source": [
    "# Instantiate the model\n",
    "logreg = LogisticRegression(fit_intercept=False, C=1e12, solver='liblinear')\n",
    "\n",
    "# Fit the model\n",
    "logreg.fit(X_train, y_train)\n",
    "y_hat_train = logreg.predict(X_train)\n",
    "y_hat_test = logreg.predict(X_test)\n",
    "\n",
    "print('Training Precision: ', precision_score(y_train, y_hat_train))\n",
    "print('Testing Precision: ', precision_score(y_test, y_hat_test))\n",
    "print('\\n\\n')\n",
    "\n",
    "print('Training Recall: ', recall_score(y_train, y_hat_train))\n",
    "print('Testing Recall: ', recall_score(y_test, y_hat_test))\n",
    "print('\\n\\n')\n",
    "\n",
    "print('Training Accuracy: ', accuracy_score(y_train, y_hat_train))\n",
    "print('Testing Accuracy: ', accuracy_score(y_test, y_hat_test))\n",
    "print('\\n\\n')\n",
    "\n",
    "print('Training F1-Score: ', f1_score(y_train, y_hat_train))\n",
    "print('Testing F1-Score: ', f1_score(y_test, y_hat_test))"
   ]
  },
  {
   "cell_type": "code",
   "execution_count": 10,
   "metadata": {},
   "outputs": [
    {
     "name": "stdout",
     "output_type": "stream",
     "text": [
      "[[8283 1441]\n",
      " [2718 5378]]\n"
     ]
    }
   ],
   "source": [
    "#Get the confusion matrix\n",
    "lr_base_matrix = confusion_matrix(y_test, y_hat_test)\n",
    "print(lr_base_matrix)"
   ]
  },
  {
   "cell_type": "code",
   "execution_count": 71,
   "metadata": {},
   "outputs": [
    {
     "data": {
      "image/png": "[encoded data removed]",
      "text/plain": [
       "<Figure size 360x360 with 2 Axes>"
      ]
     },
     "metadata": {},
     "output_type": "display_data"
    }
   ],
   "source": [
    "fig_labels = ['Functional', 'Non-Functional']\n",
    "fig, ax = plt.subplots(figsize=(5, 5))\n",
    "\n",
    "plot_confusion_matrix(logreg,\n",
    "                      X_test, \n",
    "                      y_test, \n",
    "                      ax=ax, \n",
    "                      cmap='YlGn',\n",
    "                     display_labels=fig_labels)\n",
    "\n",
    "plt.show();"
   ]
  },
  {
   "cell_type": "code",
   "execution_count": 70,
   "metadata": {},
   "outputs": [
    {
     "data": {
      "image/png": "[encoded data removed]",
      "text/plain": [
       "<Figure size 360x360 with 2 Axes>"
      ]
     },
     "metadata": {},
     "output_type": "display_data"
    }
   ],
   "source": [
    "# Visualize your confusion matrix\n",
    "fig, ax = plt.subplots(figsize=(5, 5))\n",
    "\n",
    "\n",
    "sns.heatmap(lr_base_matrix/np.sum(lr_base_matrix), annot=True, \n",
    "            fmt='.2%', cmap='YlGn', ax=ax)\n",
    "\n",
    "plt.show();"
   ]
  },
  {
   "cell_type": "markdown",
   "metadata": {},
   "source": [
    "Below a random grid search was used to create 300 of 600 possible combinations to narrow down the paramters to do a full brute force gridCV search. The score used for determining the 'best\" model was precision.\n",
    "\n",
    "This is clearly not the way to build the model. Although I am greatly concerned with increasing my precision in order to reduce false positives, false negatives still have a fairly high cost as well.\n",
    "\n",
    "The precision of the model is excellent. However, the accuracy and F1 scores are unnacceptable. \n",
    "\n",
    "I will describe why this is a poor model in more detail below under the display of the confusion matrix."
   ]
  },
  {
   "cell_type": "code",
   "execution_count": 20,
   "metadata": {},
   "outputs": [
    {
     "name": "stdout",
     "output_type": "stream",
     "text": [
      "Fitting 3 folds for each of 100 candidates, totalling 300 fits\n",
      "231.75220894813538\n"
     ]
    },
    {
     "ename": "NameError",
     "evalue": "name 'y_train_rp' is not defined",
     "output_type": "error",
     "traceback": [
      "\u001b[0;31m---------------------------------------------------------------------------\u001b[0m",
      "\u001b[0;31mNameError\u001b[0m                                 Traceback (most recent call last)",
      "\u001b[0;32m<ipython-input-20-5d1ead3fffa2>\u001b[0m in \u001b[0;36m<module>\u001b[0;34m\u001b[0m\n\u001b[1;32m     32\u001b[0m \u001b[0;34m\u001b[0m\u001b[0m\n\u001b[1;32m     33\u001b[0m \u001b[0;34m\u001b[0m\u001b[0m\n\u001b[0;32m---> 34\u001b[0;31m \u001b[0mprint\u001b[0m\u001b[0;34m(\u001b[0m\u001b[0;34m'Training Precision: '\u001b[0m\u001b[0;34m,\u001b[0m \u001b[0mprecision_score\u001b[0m\u001b[0;34m(\u001b[0m\u001b[0my_train_rp\u001b[0m\u001b[0;34m,\u001b[0m \u001b[0my_hat_train_rp\u001b[0m\u001b[0;34m)\u001b[0m\u001b[0;34m)\u001b[0m\u001b[0;34m\u001b[0m\u001b[0;34m\u001b[0m\u001b[0m\n\u001b[0m\u001b[1;32m     35\u001b[0m \u001b[0mprint\u001b[0m\u001b[0;34m(\u001b[0m\u001b[0;34m'Testing Precision: '\u001b[0m\u001b[0;34m,\u001b[0m \u001b[0mprecision_score\u001b[0m\u001b[0;34m(\u001b[0m\u001b[0my_test_rp\u001b[0m\u001b[0;34m,\u001b[0m \u001b[0my_hat_test_rp\u001b[0m\u001b[0;34m)\u001b[0m\u001b[0;34m)\u001b[0m\u001b[0;34m\u001b[0m\u001b[0;34m\u001b[0m\u001b[0m\n\u001b[1;32m     36\u001b[0m \u001b[0mprint\u001b[0m\u001b[0;34m(\u001b[0m\u001b[0;34m'\\n\\n'\u001b[0m\u001b[0;34m)\u001b[0m\u001b[0;34m\u001b[0m\u001b[0;34m\u001b[0m\u001b[0m\n",
      "\u001b[0;31mNameError\u001b[0m: name 'y_train_rp' is not defined"
     ]
    }
   ],
   "source": [
    "start = time.time()\n",
    "\n",
    "classifier_penalties = ['l1', 'l2']\n",
    "classifier_Cs = np.logspace(-5, 5, 100)\n",
    "classifier__solver = ['liblinear']\n",
    "    \n",
    "random_grid = {'penalty' : classifier_penalties,\n",
    "'C' : classifier_Cs,\n",
    "'solver' : classifier__solver}\n",
    "\n",
    "lr = LogisticRegression()\n",
    "# Random search of parameters, using 3 fold cross validation, \n",
    "# search across 100 different combinations, and use all available cores\n",
    "lr_random_precision = RandomizedSearchCV(scoring='precision', \n",
    "                               estimator = lr, \n",
    "                               param_distributions = random_grid, \n",
    "                               n_iter = 100, cv = 3, verbose=2, \n",
    "                               random_state=42, \n",
    "                               n_jobs = -1)\n",
    "# Fit the random search model\n",
    "lr_random_precision.fit(X_train, y_train)\n",
    "\n",
    "\n",
    "\n",
    "end = time.time()\n",
    "print(end - start)\n",
    "\n",
    "lr_best_rand_precision = lr_random_precision.best_estimator_\n",
    "lr_best_rand_precision.fit(X_train,y_train)\n",
    "y_hat_train_rp = lr_best_rand_precision.predict(X_train)\n",
    "y_hat_test_rp = lr_best_rand_precision.predict(X_test)"
   ]
  },
  {
   "cell_type": "code",
   "execution_count": 21,
   "metadata": {},
   "outputs": [
    {
     "name": "stdout",
     "output_type": "stream",
     "text": [
      "Training Precision:  0.9579011592434411\n",
      "Testing Precision:  0.9559834938101788\n",
      "\n",
      "\n",
      "\n",
      "Training Accuracy:  0.5780663780663781\n",
      "Testing Accuracy:  0.5828843995510662\n",
      "\n",
      "\n",
      "\n",
      "Training F1-Score:  0.15180816089731192\n",
      "Testing F1-Score:  0.15754278590048737\n"
     ]
    }
   ],
   "source": [
    "print('Training Precision: ', precision_score(y_train, y_hat_train_rp))\n",
    "print('Testing Precision: ', precision_score(y_test, y_hat_test_rp))\n",
    "print('\\n\\n')\n",
    "\n",
    "\n",
    "print('Training Accuracy: ', accuracy_score(y_train, y_hat_train_rp))\n",
    "print('Testing Accuracy: ', accuracy_score(y_test, y_hat_test_rp))\n",
    "print('\\n\\n')\n",
    "\n",
    "print('Training F1-Score: ', f1_score(y_train, y_hat_train_rp))\n",
    "print('Testing F1-Score: ', f1_score(y_test, y_hat_test_rp))"
   ]
  },
  {
   "cell_type": "code",
   "execution_count": 22,
   "metadata": {},
   "outputs": [
    {
     "name": "stdout",
     "output_type": "stream",
     "text": [
      "[[9692   32]\n",
      " [7401  695]]\n"
     ]
    }
   ],
   "source": [
    "#Get the confusion matrix\n",
    "lr_rand_prec_matrix = confusion_matrix(y_test, y_hat_test_rp)\n",
    "print(lr_rand_prec_matrix)"
   ]
  },
  {
   "cell_type": "code",
   "execution_count": 55,
   "metadata": {},
   "outputs": [
    {
     "data": {
      "image/png": "[encoded data removed]",
      "text/plain": [
       "<Figure size 360x360 with 2 Axes>"
      ]
     },
     "metadata": {
      "needs_background": "light"
     },
     "output_type": "display_data"
    }
   ],
   "source": [
    "# Visualize your confusion matrix\n",
    "fig, ax = plt.subplots(figsize=(5,5))\n",
    "\n",
    "\n",
    "sns.heatmap(lr_rand_prec_matrix/np.sum(lr_rand_prec_matrix), annot=True, \n",
    "            fmt='.2%', cmap='YlGn', ax=ax)\n",
    "\n",
    "plt.show();"
   ]
  },
  {
   "cell_type": "markdown",
   "metadata": {},
   "source": [
    "As the confusion matrix above makes it clear how poorly this model performs. Even though there is a very small amount of false positives, which is what we want, the model can hardly identify True Negatives at all! It missclassifies non-functional pumps at such a high rate that deployment of resources would go to very few water pumps that need them. This is very bad.\n",
    "\n",
    "It is clear that focusing on just precision in order to lower false positives is a poor approach for building the model. \n",
    "\n",
    "I will now focus on f1_score as my target for iterative modeling.\n",
    "\n",
    "Below I decided to run a full grid search with the same paramaters as my random grid, only this time with focus on improving f1_score."
   ]
  },
  {
   "cell_type": "code",
   "execution_count": 25,
   "metadata": {},
   "outputs": [
    {
     "name": "stdout",
     "output_type": "stream",
     "text": [
      "Fitting 3 folds for each of 200 candidates, totalling 600 fits\n",
      "469.99079990386963\n"
     ]
    },
    {
     "ename": "NameError",
     "evalue": "name 'lr_best_rand_score' is not defined",
     "output_type": "error",
     "traceback": [
      "\u001b[0;31m---------------------------------------------------------------------------\u001b[0m",
      "\u001b[0;31mNameError\u001b[0m                                 Traceback (most recent call last)",
      "\u001b[0;32m<ipython-input-25-de0ab4e2fd38>\u001b[0m in \u001b[0;36m<module>\u001b[0;34m\u001b[0m\n\u001b[1;32m     35\u001b[0m \u001b[0mlr_best_grid_f1\u001b[0m \u001b[0;34m=\u001b[0m \u001b[0mlr_grid_f1\u001b[0m\u001b[0;34m.\u001b[0m\u001b[0mbest_estimator_\u001b[0m\u001b[0;34m\u001b[0m\u001b[0;34m\u001b[0m\u001b[0m\n\u001b[1;32m     36\u001b[0m \u001b[0mlr_best_grid_f1\u001b[0m\u001b[0;34m.\u001b[0m\u001b[0mfit\u001b[0m\u001b[0;34m(\u001b[0m\u001b[0mX_train\u001b[0m\u001b[0;34m,\u001b[0m\u001b[0my_train\u001b[0m\u001b[0;34m)\u001b[0m\u001b[0;34m\u001b[0m\u001b[0;34m\u001b[0m\u001b[0m\n\u001b[0;32m---> 37\u001b[0;31m \u001b[0my_hat_train_gs\u001b[0m \u001b[0;34m=\u001b[0m \u001b[0mlr_best_rand_score\u001b[0m\u001b[0;34m.\u001b[0m\u001b[0mpredict\u001b[0m\u001b[0;34m(\u001b[0m\u001b[0mX_train\u001b[0m\u001b[0;34m)\u001b[0m\u001b[0;34m\u001b[0m\u001b[0;34m\u001b[0m\u001b[0m\n\u001b[0m\u001b[1;32m     38\u001b[0m \u001b[0my_hat_test_gs\u001b[0m \u001b[0;34m=\u001b[0m \u001b[0mlr_best_rand_score\u001b[0m\u001b[0;34m.\u001b[0m\u001b[0mpredict\u001b[0m\u001b[0;34m(\u001b[0m\u001b[0mX_test\u001b[0m\u001b[0;34m)\u001b[0m\u001b[0;34m\u001b[0m\u001b[0;34m\u001b[0m\u001b[0m\n",
      "\u001b[0;31mNameError\u001b[0m: name 'lr_best_rand_score' is not defined"
     ]
    }
   ],
   "source": [
    "start = time.time()\n",
    "\n",
    "classifier_penalties = ['l1', 'l2']\n",
    "classifier_Cs = np.logspace(-5, 5, 100)\n",
    "classifier__solver = ['liblinear']\n",
    "    \n",
    "lr_grid = {'penalty' : classifier_penalties,\n",
    "            'C' : classifier_Cs,\n",
    "            'solver' : classifier__solver\n",
    "          }\n",
    "\n",
    "lr = LogisticRegression()\n",
    "# Random search of parameters, using 3 fold cross validation, \n",
    "# search across 100 different combinations, and use all available cores\n",
    "lr_grid_f1 = GridSearchCV(estimator=lr,\n",
    "                          param_grid=lr_grid,\n",
    "                          scoring='f1',\n",
    "                          cv=3,\n",
    "                          n_jobs = -1,\n",
    "                          verbose=2 \n",
    "                         )\n",
    "\n",
    "# RandomizedSearchCV(estimator = lr, \n",
    "#                                param_distributions = random_grid, \n",
    "#                                n_iter = 100, cv = 3, verbose=2, \n",
    "#                                random_state=42, \n",
    "#                                n_jobs = -1)\n",
    "# Fit the random search model\n",
    "lr_grid_f1.fit(X_train, y_train)\n",
    "\n",
    "\n",
    "end = time.time()\n",
    "print(end - start)\n",
    "\n",
    "\n",
    "# lr_best_grid_f1 = lr_grid_f1.best_estimator_\n",
    "# lr_best_grid_f1.fit(X_train,y_train)\n",
    "# y_hat_train_gs = lr_best_grid_f1.predict(X_train)\n",
    "# y_hat_test_gs = lr_best_grid_f1.predict(X_test)"
   ]
  },
  {
   "cell_type": "code",
   "execution_count": 29,
   "metadata": {},
   "outputs": [
    {
     "data": {
      "text/plain": [
       "LogisticRegression(C=5.72236765935022, solver='liblinear')"
      ]
     },
     "execution_count": 29,
     "metadata": {},
     "output_type": "execute_result"
    }
   ],
   "source": [
    " lr_grid_f1.best_estimator_"
   ]
  },
  {
   "cell_type": "code",
   "execution_count": 31,
   "metadata": {},
   "outputs": [
    {
     "name": "stdout",
     "output_type": "stream",
     "text": [
      "Training Precision:  0.7952357133925222\n",
      "Testing Precision:  0.7879630985503002\n",
      "\n",
      "\n",
      "\n",
      "Training Accuracy:  0.769095719095719\n",
      "Testing Accuracy:  0.7663860830527497\n",
      "\n",
      "\n",
      "\n",
      "Training F1-Score:  0.7259910385570364\n",
      "Testing F1-Score:  0.72107202680067\n"
     ]
    }
   ],
   "source": [
    "lr_best_grid_f1 = lr_grid_f1.best_estimator_\n",
    "lr_best_grid_f1.fit(X_train,y_train)\n",
    "y_hat_train_gs = lr_best_grid_f1.predict(X_train)\n",
    "y_hat_test_gs = lr_best_grid_f1.predict(X_test)\n",
    "\n",
    "\n",
    "print('Training Precision: ', precision_score(y_train, y_hat_train_gs))\n",
    "print('Testing Precision: ', precision_score(y_test, y_hat_test_gs))\n",
    "print('\\n\\n')\n",
    "\n",
    "\n",
    "print('Training Accuracy: ', accuracy_score(y_train, y_hat_train_gs))\n",
    "print('Testing Accuracy: ', accuracy_score(y_test, y_hat_test_gs))\n",
    "print('\\n\\n')\n",
    "\n",
    "print('Training F1-Score: ', f1_score(y_train, y_hat_train_gs))\n",
    "print('Testing F1-Score: ', f1_score(y_test, y_hat_test_gs))"
   ]
  },
  {
   "cell_type": "code",
   "execution_count": 54,
   "metadata": {},
   "outputs": [
    {
     "name": "stdout",
     "output_type": "stream",
     "text": [
      "[[8276 1448]\n",
      " [2715 5381]]\n"
     ]
    },
    {
     "data": {
      "image/png": "[encoded data removed]",
      "text/plain": [
       "<Figure size 360x360 with 2 Axes>"
      ]
     },
     "metadata": {
      "needs_background": "light"
     },
     "output_type": "display_data"
    }
   ],
   "source": [
    "#best grid search confusion matrix\n",
    "lr_grid_f1_matrix = confusion_matrix(y_test, y_hat_test_gs)\n",
    "print(lr_grid_f1_matrix)\n",
    "\n",
    "# Visualize your confusion matrix\n",
    "fig, ax = plt.subplots(figsize=(5,5))\n",
    "\n",
    "\n",
    "sns.heatmap(lr_grid_f1_matrix/np.sum(lr_grid_f1_matrix), annot=True, \n",
    "            fmt='.2%', cmap='YlGn', ax=ax)\n",
    "\n",
    "plt.show();"
   ]
  },
  {
   "cell_type": "code",
   "execution_count": 52,
   "metadata": {},
   "outputs": [
    {
     "data": {
      "image/png": "[encoded data removed]",
      "text/plain": [
       "<Figure size 360x360 with 2 Axes>"
      ]
     },
     "metadata": {
      "needs_background": "light"
     },
     "output_type": "display_data"
    }
   ],
   "source": [
    "#baseline confusion matrix\n",
    "fig, ax = plt.subplots(figsize=(5,5))\n",
    "\n",
    "\n",
    "sns.heatmap(lr_base_matrix/np.sum(lr_base_matrix), annot=True, \n",
    "            fmt='.2%', cmap='YlGn', ax=ax)\n",
    "\n",
    "plt.show();"
   ]
  },
  {
   "cell_type": "code",
   "execution_count": 53,
   "metadata": {},
   "outputs": [
    {
     "data": {
      "image/png": "[encoded data removed]",
      "text/plain": [
       "<Figure size 360x360 with 2 Axes>"
      ]
     },
     "metadata": {
      "needs_background": "light"
     },
     "output_type": "display_data"
    }
   ],
   "source": [
    "fig, ax = plt.subplots(figsize=(5,5))\n",
    "\n",
    "plot_confusion_matrix(lr_best_grid_f1,\n",
    "                      X_test, \n",
    "                      y_test, \n",
    "                      ax=ax, \n",
    "                      cmap='YlGn',\n",
    "                     display_labels=fig_labels)\n",
    "\n",
    "plt.show();"
   ]
  },
  {
   "cell_type": "markdown",
   "metadata": {},
   "source": [
    "The gridsearch did not do much to improve the model. "
   ]
  },
  {
   "cell_type": "markdown",
   "metadata": {},
   "source": [
    "### Random Forest Classifier\n",
    "\n",
    "Below I have created a grid of paramters in order to tune a random forest classifier. This grid will be used to perform a random grid search in order to narrow down the paramters to run a more robust grid search. The run time for a Random Forest has potential to be much higher than a logistic regression model. Therefore, a random search to narrow down the paramters for a grid search was carried out in order to reduce total run time while still keeping a fairly broad search."
   ]
  },
  {
   "cell_type": "code",
   "execution_count": 40,
   "metadata": {},
   "outputs": [
    {
     "data": {
      "text/plain": [
       "{'n_estimators': [200, 400, 600, 800, 1000, 1200, 1400, 1600, 1800, 2000],\n",
       " 'max_features': ['auto', 'sqrt'],\n",
       " 'max_depth': [10, 20, 30, 40, 50, 60, 70, 80, 90, 100, 110, None],\n",
       " 'min_samples_split': [2, 5, 10],\n",
       " 'min_samples_leaf': [1, 2, 4]}"
      ]
     },
     "execution_count": 40,
     "metadata": {},
     "output_type": "execute_result"
    }
   ],
   "source": [
    "# Number of trees in random forest\n",
    "n_estimators = [int(x) for x in np.linspace(start = 200, stop = 2000, num = 10)]\n",
    "# Number of features to consider at every split\n",
    "max_features = ['auto', 'sqrt']\n",
    "# Maximum number of levels in tree\n",
    "max_depth = [int(x) for x in np.linspace(10, 110, num = 11)]\n",
    "max_depth.append(None)\n",
    "# Minimum number of samples required to split a node\n",
    "min_samples_split = [2, 5, 10]\n",
    "# Minimum number of samples required at each leaf node\n",
    "min_samples_leaf = [1, 2, 4]\n",
    "# Create the random grid\n",
    "random_grid = {'n_estimators': n_estimators,\n",
    "               'max_features': max_features,\n",
    "               'max_depth': max_depth,\n",
    "               'min_samples_split': min_samples_split,\n",
    "               'min_samples_leaf': min_samples_leaf}\n",
    "random_grid"
   ]
  },
  {
   "cell_type": "code",
   "execution_count": 41,
   "metadata": {},
   "outputs": [
    {
     "name": "stdout",
     "output_type": "stream",
     "text": [
      "Fitting 3 folds for each of 33 candidates, totalling 99 fits\n",
      "2072.605688095093\n",
      "Training Precision:  0.9026457450463864\n",
      "Testing Precision:  0.8049204439096136\n",
      "\n",
      "\n",
      "\n",
      "Training Accuracy:  0.8801587301587301\n",
      "Testing Accuracy:  0.8016273849607183\n",
      "\n",
      "\n",
      "\n",
      "Training F1-Score:  0.863505629057441\n",
      "Testing F1-Score:  0.7730337078651686\n"
     ]
    }
   ],
   "source": [
    "start = time.time()\n",
    "\n",
    "# Use the random grid to search for best hyperparameters\n",
    "# First create the base model to tune\n",
    "rfc = RandomForestClassifier()\n",
    "# Random search of parameters, using 3 fold cross validation, \n",
    "# search across 100 different combinations, and use all available cores\n",
    "rfc_random = RandomizedSearchCV(scoring='f1',\n",
    "                                estimator = rfc, \n",
    "                                param_distributions = random_grid, \n",
    "                                n_iter = 33, \n",
    "                                cv = 3, \n",
    "                                verbose=2, \n",
    "                                random_state=42, \n",
    "                                n_jobs = -1)\n",
    "# Fit the random search model\n",
    "\n",
    "rfc_random.fit(X_train,y_train)\n",
    "rfc_best_random = rfc_random.best_estimator_\n",
    "rfc_best_random.fit(X_train,y_train)\n",
    "y_hat_train_rrf = rfc_best_random.predict(X_train)\n",
    "y_hat_test_rrf = rfc_best_random.predict(X_test)\n",
    "\n",
    "\n",
    "end = time.time()\n",
    "print(end - start)\n",
    "\n",
    "print('Training Precision: ', precision_score(y_train, y_hat_train_rrf))\n",
    "print('Testing Precision: ', precision_score(y_test, y_hat_test_rrf))\n",
    "print('\\n\\n')\n",
    "\n",
    "\n",
    "print('Training Accuracy: ', accuracy_score(y_train, y_hat_train_rrf))\n",
    "print('Testing Accuracy: ', accuracy_score(y_test, y_hat_test_rrf))\n",
    "print('\\n\\n')\n",
    "\n",
    "print('Training F1-Score: ', f1_score(y_train, y_hat_train_rrf))\n",
    "print('Testing F1-Score: ', f1_score(y_test, y_hat_test_rrf))"
   ]
  },
  {
   "cell_type": "code",
   "execution_count": 37,
   "metadata": {},
   "outputs": [
    {
     "data": {
      "text/plain": [
       "{'bootstrap': True,\n",
       " 'ccp_alpha': 0.0,\n",
       " 'class_weight': None,\n",
       " 'criterion': 'gini',\n",
       " 'max_depth': None,\n",
       " 'max_features': 'auto',\n",
       " 'max_leaf_nodes': None,\n",
       " 'max_samples': None,\n",
       " 'min_impurity_decrease': 0.0,\n",
       " 'min_impurity_split': None,\n",
       " 'min_samples_leaf': 1,\n",
       " 'min_samples_split': 10,\n",
       " 'min_weight_fraction_leaf': 0.0,\n",
       " 'n_estimators': 600,\n",
       " 'n_jobs': None,\n",
       " 'oob_score': False,\n",
       " 'random_state': None,\n",
       " 'verbose': 0,\n",
       " 'warm_start': False}"
      ]
     },
     "execution_count": 37,
     "metadata": {},
     "output_type": "execute_result"
    }
   ],
   "source": [
    "rfc_random.best_estimator_.get_params()"
   ]
  },
  {
   "cell_type": "code",
   "execution_count": 51,
   "metadata": {},
   "outputs": [
    {
     "name": "stdout",
     "output_type": "stream",
     "text": [
      "[[8265 1459]\n",
      " [2076 6020]]\n"
     ]
    },
    {
     "data": {
      "image/png": "[encoded data removed]",
      "text/plain": [
       "<Figure size 360x360 with 2 Axes>"
      ]
     },
     "metadata": {
      "needs_background": "light"
     },
     "output_type": "display_data"
    }
   ],
   "source": [
    "#best random search confusion matrix for Random Forest\n",
    "lr_grid_f1_matrix_rrf = confusion_matrix(y_test, y_hat_test_rrf)\n",
    "print(lr_grid_f1_matrix_rrf)\n",
    "\n",
    "# Visualize your confusion matrix\n",
    "fig, ax = plt.subplots(figsize=(5,5))\n",
    "\n",
    "\n",
    "sns.heatmap(lr_grid_f1_matrix_rrf/np.sum(lr_grid_f1_matrix_rrf), annot=True, \n",
    "            fmt='.2%', cmap='YlGn', ax=ax)\n",
    "\n",
    "plt.show();"
   ]
  },
  {
   "cell_type": "code",
   "execution_count": 50,
   "metadata": {},
   "outputs": [
    {
     "data": {
      "image/png": "[encoded data removed]",
      "text/plain": [
       "<Figure size 360x360 with 2 Axes>"
      ]
     },
     "metadata": {
      "needs_background": "light"
     },
     "output_type": "display_data"
    }
   ],
   "source": [
    "fig, ax = plt.subplots(figsize=(5,5))\n",
    "\n",
    "plot_confusion_matrix(lr_best_grid_f1,\n",
    "                      X_test, \n",
    "                      y_test, \n",
    "                      ax=ax, \n",
    "                      cmap='YlGn',\n",
    "                     display_labels=fig_labels)\n",
    "\n",
    "plt.show();"
   ]
  },
  {
   "cell_type": "markdown",
   "metadata": {},
   "source": [
    "This random forest classifier outperforms the best logistic regression model in every relevant metric. It improves upon the model accuracy and precision while also lowering the occurance false negatives. \n",
    "\n",
    "A grid search will be performed below to see if any imrpovements can be made to model performance. "
   ]
  },
  {
   "cell_type": "code",
   "execution_count": 44,
   "metadata": {},
   "outputs": [
    {
     "data": {
      "text/plain": [
       "{'n_estimators': [500, 600, 700],\n",
       " 'max_features': [14, 15, 16],\n",
       " 'min_samples_split': [8, 10, 12]}"
      ]
     },
     "execution_count": 44,
     "metadata": {},
     "output_type": "execute_result"
    }
   ],
   "source": [
    "# Number of trees in random forest\n",
    "n_estimators = [500, 600, 700]\n",
    "# Number of features to consider at every split\n",
    "max_features = [14,15,16]\n",
    "# Maximum number of levels in tree\n",
    "# Minimum number of samples required to split a node\n",
    "min_samples_split = [8,10,12]\n",
    "# Minimum number of samples required at each leaf node\n",
    "# Create the random grid\n",
    "cv_grid = {'n_estimators': n_estimators,\n",
    "               'max_features': max_features,\n",
    "               'min_samples_split': min_samples_split}\n",
    "\n",
    "cv_grid"
   ]
  },
  {
   "cell_type": "code",
   "execution_count": 45,
   "metadata": {},
   "outputs": [
    {
     "name": "stdout",
     "output_type": "stream",
     "text": [
      "Fitting 3 folds for each of 27 candidates, totalling 81 fits\n",
      "868.361251115799\n",
      "Training Precision:  0.9079278044322595\n",
      "Testing Precision:  0.8040468583599574\n",
      "\n",
      "\n",
      "\n",
      "Training Accuracy:  0.8854978354978355\n",
      "Testing Accuracy:  0.802020202020202\n",
      "\n",
      "\n",
      "\n",
      "Training F1-Score:  0.8697507728503817\n",
      "Testing F1-Score:  0.7739620707329574\n"
     ]
    }
   ],
   "source": [
    "start = time.time()\n",
    "\n",
    "rfc = RandomForestClassifier()\n",
    "# Instantiate the grid search model\n",
    "rfc_gs = GridSearchCV(scoring='f1',\n",
    "                      estimator = rfc, \n",
    "                      param_grid = cv_grid, \n",
    "                      cv = 3, \n",
    "                      n_jobs = -1, \n",
    "                      verbose = 2)\n",
    "\n",
    "\n",
    "rfc_gs.fit(X_train,y_train)\n",
    "rfc_best_gs = rfc_gs.best_estimator_\n",
    "rfc_best_gs.fit(X_train,y_train)\n",
    "y_hat_train_grf = rfc_best_gs.predict(X_train)\n",
    "y_hat_test_grf = rfc_best_gs.predict(X_test)\n",
    "\n",
    "\n",
    "end = time.time()\n",
    "print(end - start)\n",
    "\n",
    "print('Training Precision: ', precision_score(y_train, y_hat_train_grf))\n",
    "print('Testing Precision: ', precision_score(y_test, y_hat_test_grf))\n",
    "print('\\n\\n')\n",
    "\n",
    "\n",
    "print('Training Accuracy: ', accuracy_score(y_train, y_hat_train_grf))\n",
    "print('Testing Accuracy: ', accuracy_score(y_test, y_hat_test_grf))\n",
    "print('\\n\\n')\n",
    "\n",
    "print('Training F1-Score: ', f1_score(y_train, y_hat_train_grf))\n",
    "print('Testing F1-Score: ', f1_score(y_test, y_hat_test_grf))"
   ]
  },
  {
   "cell_type": "code",
   "execution_count": 48,
   "metadata": {},
   "outputs": [
    {
     "name": "stdout",
     "output_type": "stream",
     "text": [
      "[[8252 1472]\n",
      " [2056 6040]]\n"
     ]
    },
    {
     "data": {
      "image/png": "[encoded data removed]",
      "text/plain": [
       "<Figure size 360x360 with 2 Axes>"
      ]
     },
     "metadata": {
      "needs_background": "light"
     },
     "output_type": "display_data"
    }
   ],
   "source": [
    "#best grid search confusion matrix for Random Forest\n",
    "lr_grid_f1_matrix_grf = confusion_matrix(y_test, y_hat_test_grf)\n",
    "print(lr_grid_f1_matrix_grf)\n",
    "\n",
    "# Visualize your confusion matrix\n",
    "fig, ax = plt.subplots(figsize=(5, 5))\n",
    "\n",
    "\n",
    "sns.heatmap(lr_grid_f1_matrix_grf/np.sum(lr_grid_f1_matrix_grf), annot=True, \n",
    "            fmt='.2%', cmap='YlGn', ax=ax)\n",
    "\n",
    "plt.show();\n",
    "\n",
    "#besgt random search matrix\n",
    "# [[8265 1459]\n",
    "#  [2076 6020]]"
   ]
  },
  {
   "cell_type": "markdown",
   "metadata": {},
   "source": [
    "The results of the grid search reduced the number of false positives, which is great, but it slightly increased the number of false negatives. It identified a similar number of functional pumps as the other random forest model, but it also identified slightly more non-functional pumps correctly. The modeling was slightly improved overall. "
   ]
  },
  {
   "cell_type": "code",
   "execution_count": 49,
   "metadata": {},
   "outputs": [
    {
     "data": {
      "image/png": "[encoded data removed]",
      "text/plain": [
       "<Figure size 360x360 with 2 Axes>"
      ]
     },
     "metadata": {
      "needs_background": "light"
     },
     "output_type": "display_data"
    }
   ],
   "source": [
    "fig, ax = plt.subplots(figsize=(5, 5))\n",
    "\n",
    "plot_confusion_matrix(rfc_best_gs,\n",
    "                      X_test, \n",
    "                      y_test, \n",
    "                      ax=ax, \n",
    "                      cmap='YlGn',\n",
    "                     display_labels=fig_labels)\n",
    "\n",
    "plt.show();"
   ]
  },
  {
   "cell_type": "markdown",
   "metadata": {},
   "source": [
    "### XGBoost Classification Iterative Modeling\n",
    "\n",
    "\n",
    "A similar method of iterative modeling was carried out using XGBoost as was used for tuning the random forest classifier: a random grid cv will be used to reduce the number of paramters to perform in a more robust grid search. A baseline XGBoost classifier was first created using default parameters before iterative modeling/hyper-paramter tuning was carried out. "
   ]
  },
  {
   "cell_type": "code",
   "execution_count": 58,
   "metadata": {},
   "outputs": [
    {
     "name": "stdout",
     "output_type": "stream",
     "text": [
      "Training Precision:  0.8397065362383281\n",
      "Testing Precision:  0.8348687641230662\n",
      "\n",
      "\n",
      "\n",
      "Training Recall:  0.5949593069046994\n",
      "Testing Recall:  0.5932559288537549\n",
      "\n",
      "\n",
      "\n",
      "Training Accuracy:  0.7624579124579125\n",
      "Testing Accuracy:  0.7618967452300786\n",
      "\n",
      "\n",
      "\n",
      "Training F1-Score:  0.696456559820523\n",
      "Testing F1-Score:  0.6936240883818325\n"
     ]
    }
   ],
   "source": [
    "# Instantiate the model\n",
    "xgc_base = XGBClassifier()\n",
    "\n",
    "# Fit the model\n",
    "xgc_base.fit(X_train, y_train)\n",
    "y_hat_train = xgc_base.predict(X_train)\n",
    "y_hat_test = xgc_base.predict(X_test)\n",
    "\n",
    "print('Training Precision: ', precision_score(y_train, y_hat_train))\n",
    "print('Testing Precision: ', precision_score(y_test, y_hat_test))\n",
    "print('\\n\\n')\n",
    "\n",
    "print('Training Recall: ', recall_score(y_train, y_hat_train))\n",
    "print('Testing Recall: ', recall_score(y_test, y_hat_test))\n",
    "print('\\n\\n')\n",
    "\n",
    "print('Training Accuracy: ', accuracy_score(y_train, y_hat_train))\n",
    "print('Testing Accuracy: ', accuracy_score(y_test, y_hat_test))\n",
    "print('\\n\\n')\n",
    "\n",
    "print('Training F1-Score: ', f1_score(y_train, y_hat_train))\n",
    "print('Testing F1-Score: ', f1_score(y_test, y_hat_test))"
   ]
  },
  {
   "cell_type": "code",
   "execution_count": 61,
   "metadata": {},
   "outputs": [
    {
     "name": "stdout",
     "output_type": "stream",
     "text": [
      "[[8774  950]\n",
      " [3293 4803]]\n"
     ]
    },
    {
     "data": {
      "image/png": "[encoded data removed]",
      "text/plain": [
       "<Figure size 360x360 with 2 Axes>"
      ]
     },
     "metadata": {},
     "output_type": "display_data"
    }
   ],
   "source": [
    "#baseline XGSBoost model\n",
    "xgs_base_matrix = confusion_matrix(y_test, y_hat_test)\n",
    "print(xgs_base_matrix)\n",
    "\n",
    "# Visualize your confusion matrix\n",
    "fig, ax = plt.subplots(figsize=(5, 5))\n",
    "\n",
    "\n",
    "sns.heatmap(xgs_base_matrix/np.sum(xgs_base_matrix), annot=True, \n",
    "            fmt='.2%', cmap='YlGn', ax=ax)\n",
    "\n",
    "plt.show();"
   ]
  },
  {
   "cell_type": "markdown",
   "metadata": {},
   "source": [
    "The baseline XGSBoost model has a low number of false negatives, but a relatively high number of false positives. It also has a lower accuracy than either random forest model. Some hyper-parameter tuning will be carried out below in an attempt to improve the model."
   ]
  },
  {
   "cell_type": "code",
   "execution_count": 62,
   "metadata": {},
   "outputs": [
    {
     "name": "stdout",
     "output_type": "stream",
     "text": [
      "Fitting 3 folds for each of 33 candidates, totalling 99 fits\n",
      "3434.718137025833\n"
     ]
    },
    {
     "ename": "NameError",
     "evalue": "name 'lr_best_rand_score' is not defined",
     "output_type": "error",
     "traceback": [
      "\u001b[0;31m---------------------------------------------------------------------------\u001b[0m",
      "\u001b[0;31mNameError\u001b[0m                                 Traceback (most recent call last)",
      "\u001b[0;32m<ipython-input-62-89045d98e77d>\u001b[0m in \u001b[0;36m<module>\u001b[0;34m\u001b[0m\n\u001b[1;32m     26\u001b[0m \u001b[0mxgc_best_random\u001b[0m \u001b[0;34m=\u001b[0m \u001b[0mxgc_random\u001b[0m\u001b[0;34m.\u001b[0m\u001b[0mbest_estimator_\u001b[0m\u001b[0;34m\u001b[0m\u001b[0;34m\u001b[0m\u001b[0m\n\u001b[1;32m     27\u001b[0m \u001b[0mxgc_best_random\u001b[0m\u001b[0;34m.\u001b[0m\u001b[0mfit\u001b[0m\u001b[0;34m(\u001b[0m\u001b[0mX_train\u001b[0m\u001b[0;34m,\u001b[0m\u001b[0my_train\u001b[0m\u001b[0;34m)\u001b[0m\u001b[0;34m\u001b[0m\u001b[0;34m\u001b[0m\u001b[0m\n\u001b[0;32m---> 28\u001b[0;31m \u001b[0my_hat_train_brm\u001b[0m \u001b[0;34m=\u001b[0m \u001b[0mlr_best_rand_score\u001b[0m\u001b[0;34m.\u001b[0m\u001b[0mpredict\u001b[0m\u001b[0;34m(\u001b[0m\u001b[0mX_train\u001b[0m\u001b[0;34m)\u001b[0m\u001b[0;34m\u001b[0m\u001b[0;34m\u001b[0m\u001b[0m\n\u001b[0m\u001b[1;32m     29\u001b[0m \u001b[0my_hat_test_brm\u001b[0m \u001b[0;34m=\u001b[0m \u001b[0mlr_best_rand_score\u001b[0m\u001b[0;34m.\u001b[0m\u001b[0mpredict\u001b[0m\u001b[0;34m(\u001b[0m\u001b[0mX_test\u001b[0m\u001b[0;34m)\u001b[0m\u001b[0;34m\u001b[0m\u001b[0;34m\u001b[0m\u001b[0m\n\u001b[1;32m     30\u001b[0m \u001b[0;34m\u001b[0m\u001b[0m\n",
      "\u001b[0;31mNameError\u001b[0m: name 'lr_best_rand_score' is not defined"
     ]
    }
   ],
   "source": [
    "params = {\n",
    "        'min_child_weight': [1, 5, 10],\n",
    "        'gamma': [0.5, 1, 1.5, 2, 5],\n",
    "        'subsample': [0.6, 0.8, 1.0],\n",
    "        'colsample_bytree': [0.6, 0.8, 1.0],\n",
    "        'max_depth': [3, 4, 5]\n",
    "        }\n",
    "\n",
    "xgc = XGBClassifier()\n",
    "# Random search of parameters, using 3 fold cross validation, \n",
    "# search across 100 different combinations, and use all available cores\n",
    "xgc_random = RandomizedSearchCV(scoring='f1',\n",
    "                               estimator = xgc, \n",
    "                               param_distributions = params, \n",
    "                               n_iter = 33, cv = 3, verbose=2, \n",
    "                               random_state=42, \n",
    "                               n_jobs = -1)\n",
    "# Fit the random search model\n",
    "xgc_random.fit(X_train, y_train)\n",
    "\n",
    "\n",
    "end = time.time()\n",
    "print(end - start)\n",
    "\n",
    "\n",
    "# xgc_best_random = xgc_random.best_estimator_\n",
    "# xgc_best_random.fit(X_train,y_train)\n",
    "# y_hat_train_brm = xgc_best_random.predict(X_train)\n",
    "# y_hat_test_brm = xgc_best_random.predict(X_test)\n",
    "\n",
    "# print('Training Precision: ', precision_score(y_train, y_hat_train_brm))\n",
    "# print('Testing Precision: ', precision_score(y_test, y_hat_test_brm))\n",
    "# print('\\n\\n')\n",
    "\n",
    "# print('Training Recall: ', recall_score(y_train, y_hat_train_brm))\n",
    "# print('Testing Recall: ', recall_score(y_test, y_hat_test_brm))\n",
    "# print('\\n\\n')\n",
    "\n",
    "# print('Training Accuracy: ', accuracy_score(y_train, y_hat_train_brm))\n",
    "# print('Testing Accuracy: ', accuracy_score(y_test, y_hat_test_brm))\n",
    "# print('\\n\\n')\n",
    "\n",
    "# print('Training F1-Score: ', f1_score(y_train, y_hat_train_brm))\n",
    "# print('Testing F1-Score: ', f1_score(y_test, y_hat_test_brm))"
   ]
  },
  {
   "cell_type": "code",
   "execution_count": 63,
   "metadata": {},
   "outputs": [
    {
     "name": "stdout",
     "output_type": "stream",
     "text": [
      "Training Precision:  0.8566377816291161\n",
      "Testing Precision:  0.8387410772225827\n",
      "\n",
      "\n",
      "\n",
      "Training Recall:  0.6488317143607246\n",
      "Testing Recall:  0.6385869565217391\n",
      "\n",
      "\n",
      "\n",
      "Training Accuracy:  0.7894179894179895\n",
      "Testing Accuracy:  0.7800224466891134\n",
      "\n",
      "\n",
      "\n",
      "Training F1-Score:  0.7383925903794443\n",
      "Testing F1-Score:  0.7251051893408134\n"
     ]
    }
   ],
   "source": [
    "xgc_best_random = xgc_random.best_estimator_\n",
    "xgc_best_random.fit(X_train,y_train)\n",
    "y_hat_train_brm = xgc_best_random.predict(X_train)\n",
    "y_hat_test_brm = xgc_best_random.predict(X_test)\n",
    "\n",
    "print('Training Precision: ', precision_score(y_train, y_hat_train_brm))\n",
    "print('Testing Precision: ', precision_score(y_test, y_hat_test_brm))\n",
    "print('\\n\\n')\n",
    "\n",
    "print('Training Recall: ', recall_score(y_train, y_hat_train_brm))\n",
    "print('Testing Recall: ', recall_score(y_test, y_hat_test_brm))\n",
    "print('\\n\\n')\n",
    "\n",
    "print('Training Accuracy: ', accuracy_score(y_train, y_hat_train_brm))\n",
    "print('Testing Accuracy: ', accuracy_score(y_test, y_hat_test_brm))\n",
    "print('\\n\\n')\n",
    "\n",
    "print('Training F1-Score: ', f1_score(y_train, y_hat_train_brm))\n",
    "print('Testing F1-Score: ', f1_score(y_test, y_hat_test_brm))"
   ]
  },
  {
   "cell_type": "code",
   "execution_count": 65,
   "metadata": {},
   "outputs": [
    {
     "name": "stdout",
     "output_type": "stream",
     "text": [
      "[[8730  994]\n",
      " [2926 5170]]\n"
     ]
    },
    {
     "data": {
      "image/png": "[encoded data removed]",
      "text/plain": [
       "<Figure size 360x360 with 2 Axes>"
      ]
     },
     "metadata": {},
     "output_type": "display_data"
    }
   ],
   "source": [
    "#baseline XGSBoost model\n",
    "xgs_rand_matrix = confusion_matrix(y_test, y_hat_test_brm)\n",
    "print(xgs_rand_matrix)\n",
    "\n",
    "# Visualize your confusion matrix\n",
    "fig, ax = plt.subplots(figsize=(5, 5))\n",
    "\n",
    "\n",
    "sns.heatmap(xgs_rand_matrix/np.sum(xgs_rand_matrix), annot=True, \n",
    "            fmt='.2%', cmap='YlGn', ax=ax)\n",
    "\n",
    "plt.show();"
   ]
  },
  {
   "cell_type": "markdown",
   "metadata": {},
   "source": [
    "Improvements to accuracy and f1-score. Still needs improvement to both to compete with the random forest models."
   ]
  },
  {
   "cell_type": "code",
   "execution_count": 64,
   "metadata": {},
   "outputs": [
    {
     "data": {
      "text/plain": [
       "XGBClassifier(colsample_bytree=0.8, gamma=0.5, max_depth=5, subsample=1.0)"
      ]
     },
     "execution_count": 64,
     "metadata": {},
     "output_type": "execute_result"
    }
   ],
   "source": [
    "xgc_best_random"
   ]
  },
  {
   "cell_type": "code",
   "execution_count": 66,
   "metadata": {},
   "outputs": [
    {
     "name": "stdout",
     "output_type": "stream",
     "text": [
      "Fitting 3 folds for each of 18 candidates, totalling 54 fits\n",
      "553.8524680137634\n",
      "Training Precision:  0.864413680781759\n",
      "Testing Precision:  0.8411867364746946\n",
      "\n",
      "\n",
      "\n",
      "Training Accuracy:  0.8002645502645502\n",
      "Testing Accuracy:  0.7870370370370371\n",
      "\n",
      "\n",
      "\n",
      "Training F1-Score:  0.7541517421035494\n",
      "Testing F1-Score:  0.7364400305576775\n"
     ]
    }
   ],
   "source": [
    "params2 = {\n",
    "        'gamma': [0.1, 0.3, 0.5],\n",
    "        'colsample_bytree': [0.8, 0.9],\n",
    "        'max_depth': [4, 5, 6]\n",
    "        }\n",
    "\n",
    "start = time.time()\n",
    "\n",
    "xgc2 = XGBClassifier()\n",
    "# Random search of parameters, using 3 fold cross validation, \n",
    "# search across 100 different combinations, and use all available cores\n",
    "xgc_gs = GridSearchCV(scoring='f1',\n",
    "                      estimator = xgc2, \n",
    "                      param_grid = params2, \n",
    "                      cv = 3, \n",
    "                      verbose=2,  \n",
    "                      n_jobs = -1)\n",
    "\n",
    "\n",
    "xgc_gs.fit(X_train, y_train)\n",
    "xgc_best_gs = xgc_gs.best_estimator_\n",
    "xgc_best_gs.fit(X_train,y_train)\n",
    "y_hat_train_bgs = xgc_best_gs.predict(X_train)\n",
    "y_hat_test_bgs = xgc_best_gs.predict(X_test)\n",
    "\n",
    "\n",
    "end = time.time()\n",
    "print(end - start)\n",
    "\n",
    "print('Training Precision: ', precision_score(y_train, y_hat_train_bgs))\n",
    "print('Testing Precision: ', precision_score(y_test, y_hat_test_bgs))\n",
    "print('\\n\\n')\n",
    "\n",
    "\n",
    "print('Training Accuracy: ', accuracy_score(y_train, y_hat_train_bgs))\n",
    "print('Testing Accuracy: ', accuracy_score(y_test, y_hat_test_bgs))\n",
    "print('\\n\\n')\n",
    "\n",
    "print('Training F1-Score: ', f1_score(y_train, y_hat_train_bgs))\n",
    "print('Testing F1-Score: ', f1_score(y_test, y_hat_test_bgs))"
   ]
  },
  {
   "cell_type": "code",
   "execution_count": 67,
   "metadata": {},
   "outputs": [
    {
     "name": "stdout",
     "output_type": "stream",
     "text": [
      "[[8730  994]\n",
      " [2926 5170]]\n"
     ]
    },
    {
     "data": {
      "image/png": "[encoded data removed]",
      "text/plain": [
       "<Figure size 360x360 with 2 Axes>"
      ]
     },
     "metadata": {},
     "output_type": "display_data"
    }
   ],
   "source": [
    "#baseline XGSBoost model\n",
    "xgs_rand_matrix = confusion_matrix(y_test, y_hat_test_brm)\n",
    "print(xgs_rand_matrix)\n",
    "\n",
    "# Visualize your confusion matrix\n",
    "fig, ax = plt.subplots(figsize=(5, 5))\n",
    "\n",
    "\n",
    "sns.heatmap(xgs_rand_matrix/np.sum(xgs_rand_matrix), annot=True, \n",
    "            fmt='.2%', cmap='YlGn', ax=ax)\n",
    "\n",
    "plt.show();"
   ]
  },
  {
   "cell_type": "code",
   "execution_count": 68,
   "metadata": {},
   "outputs": [
    {
     "name": "stdout",
     "output_type": "stream",
     "text": [
      "[[8252 1472]\n",
      " [2056 6040]]\n"
     ]
    },
    {
     "data": {
      "image/png": "[encoded data removed]",
      "text/plain": [
       "<Figure size 360x360 with 2 Axes>"
      ]
     },
     "metadata": {},
     "output_type": "display_data"
    }
   ],
   "source": [
    "#best grid search confusion matrix for Random Forest\n",
    "lr_grid_f1_matrix_grf = confusion_matrix(y_test, y_hat_test_grf)\n",
    "print(lr_grid_f1_matrix_grf)\n",
    "\n",
    "# Visualize your confusion matrix\n",
    "fig, ax = plt.subplots(figsize=(5, 5))\n",
    "\n",
    "\n",
    "sns.heatmap(lr_grid_f1_matrix_grf/np.sum(lr_grid_f1_matrix_grf), annot=True, \n",
    "            fmt='.2%', cmap='YlGn', ax=ax)\n",
    "\n",
    "plt.show();\n",
    "\n",
    "#besgt random search matrix\n",
    "# [[8265 1459]\n",
    "#  [2076 6020]]"
   ]
  },
  {
   "cell_type": "markdown",
   "metadata": {},
   "source": [
    "The grid search produced a pretty good model, but my random forest classifier still performed better. "
   ]
  },
  {
   "cell_type": "markdown",
   "metadata": {},
   "source": [
    "## Evaluation\n",
    "\n",
    "My random forest models outperformed my best logistic regression and XGSBoost models in regards to the metrics that are most important given the buisness problem at hand.\n",
    "\n",
    "The best random forest model has the lowest false positive rate, a low false negative rate, and the highest accuracy. \n",
    "\n",
    "About 11.5% of pumps would be missclassified as functional using my best model. This means that 11.5% of the pumps would go untreated if it was deployed to conduct predicitve maintenance. However, it correctly identifies a high number of functional pumps correctly, which would save a lot of valuable resources, time and money, and it also identifies a large number of non-functional correctly. Only about 8.25% of functional pumps would be incorrectly identified as non-functional. This is the resource/time/money sink of my model. "
   ]
  },
  {
   "cell_type": "markdown",
   "metadata": {},
   "source": [
    "## Conclusions\n",
    "\n",
    "I believe that my best classification model provides a powerful enough predictive ability to prove very valuable to the Ministry of Water. The amount of resources saved, the relatively low number of missclassified functional pumps, and the elimination of the need to physically sweep the functionality of all pumps can bring access to potable drinking water to a larger number of communities than before without predictive maintenance. "
   ]
  },
  {
   "cell_type": "code",
   "execution_count": 76,
   "metadata": {},
   "outputs": [
    {
     "data": {
      "text/plain": [
       "0    0.543081\n",
       "1    0.456919\n",
       "Name: status_group, dtype: float64"
      ]
     },
     "execution_count": 76,
     "metadata": {},
     "output_type": "execute_result"
    }
   ],
   "source": [
    "df_binary['status_group'].value_counts(normalize=True)"
   ]
  },
  {
   "cell_type": "code",
   "execution_count": 72,
   "metadata": {},
   "outputs": [
    {
     "name": "stdout",
     "output_type": "stream",
     "text": [
      "[[8252 1472]\n",
      " [2056 6040]]\n"
     ]
    },
    {
     "data": {
      "image/png": "[encoded data removed]",
      "text/plain": [
       "<Figure size 360x360 with 2 Axes>"
      ]
     },
     "metadata": {},
     "output_type": "display_data"
    }
   ],
   "source": [
    "#best grid search confusion matrix for Random Forest\n",
    "print(lr_grid_f1_matrix_grf)\n",
    "\n",
    "# Visualize your confusion matrix\n",
    "fig, ax = plt.subplots(figsize=(5, 5))\n",
    "\n",
    "\n",
    "sns.heatmap(lr_grid_f1_matrix_grf/np.sum(lr_grid_f1_matrix_grf), annot=True, \n",
    "            fmt='.2%', cmap='YlGn', ax=ax)\n",
    "\n",
    "plt.show();"
   ]
  },
  {
   "cell_type": "markdown",
   "metadata": {},
   "source": [
    "Thank you! For questions or comments please feel free to reach me by email.\n",
    "\n",
    "Author: Dylan Dey\n",
    "\n",
    "Email: ddey2985@gmail.com"
   ]
  }
 ],
 "metadata": {
  "kernelspec": {
   "display_name": "Python [conda env:learn-env] *",
   "language": "python",
   "name": "conda-env-learn-env-py"
  },
  "language_info": {
   "codemirror_mode": {
    "name": "ipython",
    "version": 3
   },
   "file_extension": ".py",
   "mimetype": "text/x-python",
   "name": "python",
   "nbconvert_exporter": "python",
   "pygments_lexer": "ipython3",
   "version": "3.6.9"
  }
 },
 "nbformat": 4,
 "nbformat_minor": 2
}
